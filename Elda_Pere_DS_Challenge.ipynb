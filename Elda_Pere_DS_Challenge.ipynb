{
  "cells": [
    {
      "cell_type": "markdown",
      "metadata": {
        "id": "xNsf_XJnbG8D"
      },
      "source": [
        "# Text Classification: GOOD VS JUNK"
      ]
    },
    {
      "cell_type": "markdown",
      "source": [
        "## Introduction"
      ],
      "metadata": {
        "id": "LnYw4QL_-1jB"
      }
    },
    {
      "cell_type": "markdown",
      "source": [
        "**Notebook summary**: After exploring and visualizing different cross sections of the data, we build two classifiers to determine whether a block of text is syntactically correct or junk text. We compare a baseline Naive Bayes model and a Stochastic Gradient Descent model and prefer the performance of the Naive Bayes model for a test submission. <br><br>\n",
        "**Methodology**: \n",
        "\n",
        "1.   Feature engineering based on text features\n",
        "2.   Count Vectorizer\n",
        "3. TF-IDF Transformer\n",
        "4. SMOTE for class imbalance\n",
        "5. Naive Bayes or SGD Classifier\n",
        "6. Evaluation with F1 Score, Precision and ROC Curve\n",
        "**Main Assumptions**: 1. Data is representative of population. 2. All text will have at least one character. <br><br>\n",
        "**Next Steps**: The next steps for this project would be to implement different ways to tokenize the text such as using Word2Vec or BERT embeddings, and compare the scores given by each method. Afterwords, we would work on hyperparameter tuning with wider parameter ranges, adding the code to the platform pipeline and user testing to ensure the model is performing to spec."
      ],
      "metadata": {
        "id": "qNQJgwil-5Yg"
      }
    },
    {
      "cell_type": "code",
      "execution_count": 86,
      "metadata": {
        "id": "roOSlk6-aDnk"
      },
      "outputs": [],
      "source": [
        "# If additional packages are needed but are not installed by default, uncomment the last two lines of this cell\n",
        "# and replace <package list> with a list of additional packages.\n",
        "# This will ensure the notebook has all the dependencies and works everywhere\n",
        "\n",
        "#import sys\n",
        "#!{sys.executable} -m pip install <package list>"
      ]
    },
    {
      "cell_type": "code",
      "execution_count": 87,
      "metadata": {
        "id": "fmWa0S0ZbYtx"
      },
      "outputs": [],
      "source": [
        "# Libraries\n",
        "import pandas as pd\n",
        "import numpy as np\n",
        "import re\n",
        "import sklearn\n",
        "from sklearn.model_selection import train_test_split\n",
        "from sklearn.feature_extraction.text import CountVectorizer\n",
        "from sklearn.feature_extraction.text import TfidfTransformer\n",
        "from sklearn.compose import ColumnTransformer\n",
        "from imblearn.over_sampling import SMOTE\n",
        "from sklearn.naive_bayes import BernoulliNB\n",
        "from sklearn.pipeline import Pipeline, make_pipeline\n",
        "from imblearn.pipeline import Pipeline as imbpipeline\n",
        "from sklearn.metrics import f1_score, precision_score, classification_report\n",
        "from sklearn.linear_model import SGDClassifier\n",
        "from sklearn.metrics import roc_curve\n",
        "from sklearn.metrics import RocCurveDisplay\n",
        "from sklearn.model_selection import GridSearchCV\n",
        "from collections import Counter\n",
        "import seaborn as sns\n",
        "\n",
        "pd.set_option(\"display.max_columns\", 101)\n",
        "pd.set_option('display.max_colwidth', 100)"
      ]
    },
    {
      "cell_type": "markdown",
      "metadata": {
        "id": "r8kqQ8h2eMJn"
      },
      "source": [
        "## Data Description"
      ]
    },
    {
      "cell_type": "markdown",
      "metadata": {
        "id": "MxXczpXMeNPO"
      },
      "source": [
        "Column | Description\n",
        ":---|:---\n",
        "`text` | Text which needs to be classified\n",
        "`label`  | Label ( 1 = GOOD, 0 = BAD)"
      ]
    },
    {
      "cell_type": "code",
      "execution_count": 88,
      "metadata": {
        "colab": {
          "base_uri": "https://localhost:8080/",
          "height": 206
        },
        "id": "efkG0EkjeBWo",
        "outputId": "bf822ed4-2a62-4837-e181-a6bb2d4e007f"
      },
      "outputs": [
        {
          "output_type": "execute_result",
          "data": {
            "text/plain": [
              "                                                                                                  text  \\\n",
              "0          Unfortunately, I did receive credible reports of calls that were not properly investigated.   \n",
              "1                                                     534.27 48.21 500.00 500.00 .00 299.19 600.00 .00   \n",
              "2                           the rdi rm citizens, or of eag oati citizen, or oe Any in owning, C. gu t;   \n",
              "3  Objectives: Improved self-esteem, new skills learned and collaboration with contemporary and tra...   \n",
              "4  \"Easement\" means an interest in land owned by another that entitles the easement holder to a spe...   \n",
              "\n",
              "   label  \n",
              "0      1  \n",
              "1      0  \n",
              "2      0  \n",
              "3      1  \n",
              "4      1  "
            ],
            "text/html": [
              "\n",
              "  <div id=\"df-663b33f1-69cc-4cd8-bd70-7ae080ca047b\">\n",
              "    <div class=\"colab-df-container\">\n",
              "      <div>\n",
              "<style scoped>\n",
              "    .dataframe tbody tr th:only-of-type {\n",
              "        vertical-align: middle;\n",
              "    }\n",
              "\n",
              "    .dataframe tbody tr th {\n",
              "        vertical-align: top;\n",
              "    }\n",
              "\n",
              "    .dataframe thead th {\n",
              "        text-align: right;\n",
              "    }\n",
              "</style>\n",
              "<table border=\"1\" class=\"dataframe\">\n",
              "  <thead>\n",
              "    <tr style=\"text-align: right;\">\n",
              "      <th></th>\n",
              "      <th>text</th>\n",
              "      <th>label</th>\n",
              "    </tr>\n",
              "  </thead>\n",
              "  <tbody>\n",
              "    <tr>\n",
              "      <th>0</th>\n",
              "      <td>Unfortunately, I did receive credible reports of calls that were not properly investigated.</td>\n",
              "      <td>1</td>\n",
              "    </tr>\n",
              "    <tr>\n",
              "      <th>1</th>\n",
              "      <td>534.27 48.21 500.00 500.00 .00 299.19 600.00 .00</td>\n",
              "      <td>0</td>\n",
              "    </tr>\n",
              "    <tr>\n",
              "      <th>2</th>\n",
              "      <td>the rdi rm citizens, or of eag oati citizen, or oe Any in owning, C. gu t;</td>\n",
              "      <td>0</td>\n",
              "    </tr>\n",
              "    <tr>\n",
              "      <th>3</th>\n",
              "      <td>Objectives: Improved self-esteem, new skills learned and collaboration with contemporary and tra...</td>\n",
              "      <td>1</td>\n",
              "    </tr>\n",
              "    <tr>\n",
              "      <th>4</th>\n",
              "      <td>\"Easement\" means an interest in land owned by another that entitles the easement holder to a spe...</td>\n",
              "      <td>1</td>\n",
              "    </tr>\n",
              "  </tbody>\n",
              "</table>\n",
              "</div>\n",
              "      <button class=\"colab-df-convert\" onclick=\"convertToInteractive('df-663b33f1-69cc-4cd8-bd70-7ae080ca047b')\"\n",
              "              title=\"Convert this dataframe to an interactive table.\"\n",
              "              style=\"display:none;\">\n",
              "        \n",
              "  <svg xmlns=\"http://www.w3.org/2000/svg\" height=\"24px\"viewBox=\"0 0 24 24\"\n",
              "       width=\"24px\">\n",
              "    <path d=\"M0 0h24v24H0V0z\" fill=\"none\"/>\n",
              "    <path d=\"M18.56 5.44l.94 2.06.94-2.06 2.06-.94-2.06-.94-.94-2.06-.94 2.06-2.06.94zm-11 1L8.5 8.5l.94-2.06 2.06-.94-2.06-.94L8.5 2.5l-.94 2.06-2.06.94zm10 10l.94 2.06.94-2.06 2.06-.94-2.06-.94-.94-2.06-.94 2.06-2.06.94z\"/><path d=\"M17.41 7.96l-1.37-1.37c-.4-.4-.92-.59-1.43-.59-.52 0-1.04.2-1.43.59L10.3 9.45l-7.72 7.72c-.78.78-.78 2.05 0 2.83L4 21.41c.39.39.9.59 1.41.59.51 0 1.02-.2 1.41-.59l7.78-7.78 2.81-2.81c.8-.78.8-2.07 0-2.86zM5.41 20L4 18.59l7.72-7.72 1.47 1.35L5.41 20z\"/>\n",
              "  </svg>\n",
              "      </button>\n",
              "      \n",
              "  <style>\n",
              "    .colab-df-container {\n",
              "      display:flex;\n",
              "      flex-wrap:wrap;\n",
              "      gap: 12px;\n",
              "    }\n",
              "\n",
              "    .colab-df-convert {\n",
              "      background-color: #E8F0FE;\n",
              "      border: none;\n",
              "      border-radius: 50%;\n",
              "      cursor: pointer;\n",
              "      display: none;\n",
              "      fill: #1967D2;\n",
              "      height: 32px;\n",
              "      padding: 0 0 0 0;\n",
              "      width: 32px;\n",
              "    }\n",
              "\n",
              "    .colab-df-convert:hover {\n",
              "      background-color: #E2EBFA;\n",
              "      box-shadow: 0px 1px 2px rgba(60, 64, 67, 0.3), 0px 1px 3px 1px rgba(60, 64, 67, 0.15);\n",
              "      fill: #174EA6;\n",
              "    }\n",
              "\n",
              "    [theme=dark] .colab-df-convert {\n",
              "      background-color: #3B4455;\n",
              "      fill: #D2E3FC;\n",
              "    }\n",
              "\n",
              "    [theme=dark] .colab-df-convert:hover {\n",
              "      background-color: #434B5C;\n",
              "      box-shadow: 0px 1px 3px 1px rgba(0, 0, 0, 0.15);\n",
              "      filter: drop-shadow(0px 1px 2px rgba(0, 0, 0, 0.3));\n",
              "      fill: #FFFFFF;\n",
              "    }\n",
              "  </style>\n",
              "\n",
              "      <script>\n",
              "        const buttonEl =\n",
              "          document.querySelector('#df-663b33f1-69cc-4cd8-bd70-7ae080ca047b button.colab-df-convert');\n",
              "        buttonEl.style.display =\n",
              "          google.colab.kernel.accessAllowed ? 'block' : 'none';\n",
              "\n",
              "        async function convertToInteractive(key) {\n",
              "          const element = document.querySelector('#df-663b33f1-69cc-4cd8-bd70-7ae080ca047b');\n",
              "          const dataTable =\n",
              "            await google.colab.kernel.invokeFunction('convertToInteractive',\n",
              "                                                     [key], {});\n",
              "          if (!dataTable) return;\n",
              "\n",
              "          const docLinkHtml = 'Like what you see? Visit the ' +\n",
              "            '<a target=\"_blank\" href=https://colab.research.google.com/notebooks/data_table.ipynb>data table notebook</a>'\n",
              "            + ' to learn more about interactive tables.';\n",
              "          element.innerHTML = '';\n",
              "          dataTable['output_type'] = 'display_data';\n",
              "          await google.colab.output.renderOutput(dataTable, element);\n",
              "          const docLink = document.createElement('div');\n",
              "          docLink.innerHTML = docLinkHtml;\n",
              "          element.appendChild(docLink);\n",
              "        }\n",
              "      </script>\n",
              "    </div>\n",
              "  </div>\n",
              "  "
            ]
          },
          "metadata": {},
          "execution_count": 88
        }
      ],
      "source": [
        "# The information dataset for the training set is already loaded below\n",
        "data = pd.read_csv('train.csv')\n",
        "data.head()"
      ]
    },
    {
      "cell_type": "code",
      "execution_count": 89,
      "metadata": {
        "id": "wHrNW573ryKp",
        "colab": {
          "base_uri": "https://localhost:8080/",
          "height": 848
        },
        "outputId": "ae87f270-5b4d-4f49-cd22-10372456f6d2"
      },
      "outputs": [
        {
          "output_type": "stream",
          "name": "stdout",
          "text": [
            "Shape of data: (7265, 2)\n",
            "------------------------------------------------------------------------------\n",
            "General statistics: \n",
            "             label\n",
            "count  7265.000000\n",
            "mean      0.414040\n",
            "std       0.492589\n",
            "min       0.000000\n",
            "25%       0.000000\n",
            "50%       0.000000\n",
            "75%       1.000000\n",
            "max       1.000000\n",
            "------------------------------------------------------------------------------\n",
            "Null values: \n",
            "text     0\n",
            "label    0\n",
            "dtype: int64\n",
            "------------------------------------------------------------------------------\n",
            "Distinct categories: \n",
            "\n"
          ]
        },
        {
          "output_type": "display_data",
          "data": {
            "text/plain": [
              "<Figure size 1080x576 with 1 Axes>"
            ],
            "image/png": "[encoded data removed]"
          },
          "metadata": {}
        }
      ],
      "source": [
        "#Data exploration. Looks relatively evenly distributed amongst groups.\n",
        "\n",
        "print(\"Shape of data: \" + str(data.shape))\n",
        "print(\"------------------------------------------------------------------------------\")\n",
        "print(\"General statistics: \")\n",
        "print(data.describe())\n",
        "print(\"------------------------------------------------------------------------------\")\n",
        "print(\"Null values: \\n\" + str(data.isna().sum()))\n",
        "print(\"------------------------------------------------------------------------------\")\n",
        "print(\"Distinct categories: \\n\")\n",
        "sns.barplot(x=data['label'].value_counts().index, y=data['label'].value_counts()).set(title='Class Balance');"
      ]
    },
    {
      "cell_type": "markdown",
      "source": [
        "## Feature Engineering"
      ],
      "metadata": {
        "id": "kDo8uHa9UmCA"
      }
    },
    {
      "cell_type": "markdown",
      "source": [
        "Here we transform the text to numerical representations so that it is ready to be inputted to the classifiers in the ML section below. We use the CountVectorizer and TF-IDF transformer modules as baselines recommended from SciKitLearn documentation but recognize that more advanced methods using transformers would likely perform better. Afterwords, we consider new features such as class balancing with SMOTE that would improve the F1 score."
      ],
      "metadata": {
        "id": "i8tvxzwdVEUN"
      }
    },
    {
      "cell_type": "code",
      "source": [
        "#Before preprocessing\n",
        "data.head(3)"
      ],
      "metadata": {
        "colab": {
          "base_uri": "https://localhost:8080/",
          "height": 143
        },
        "id": "PmvViiburrEJ",
        "outputId": "19aedc91-5398-4f95-cc74-77c90aaddfa7"
      },
      "execution_count": 90,
      "outputs": [
        {
          "output_type": "execute_result",
          "data": {
            "text/plain": [
              "                                                                                          text  \\\n",
              "0  Unfortunately, I did receive credible reports of calls that were not properly investigated.   \n",
              "1                                             534.27 48.21 500.00 500.00 .00 299.19 600.00 .00   \n",
              "2                   the rdi rm citizens, or of eag oati citizen, or oe Any in owning, C. gu t;   \n",
              "\n",
              "   label  \n",
              "0      1  \n",
              "1      0  \n",
              "2      0  "
            ],
            "text/html": [
              "\n",
              "  <div id=\"df-62a2b14f-dccc-4e93-ab21-13c8526cda7a\">\n",
              "    <div class=\"colab-df-container\">\n",
              "      <div>\n",
              "<style scoped>\n",
              "    .dataframe tbody tr th:only-of-type {\n",
              "        vertical-align: middle;\n",
              "    }\n",
              "\n",
              "    .dataframe tbody tr th {\n",
              "        vertical-align: top;\n",
              "    }\n",
              "\n",
              "    .dataframe thead th {\n",
              "        text-align: right;\n",
              "    }\n",
              "</style>\n",
              "<table border=\"1\" class=\"dataframe\">\n",
              "  <thead>\n",
              "    <tr style=\"text-align: right;\">\n",
              "      <th></th>\n",
              "      <th>text</th>\n",
              "      <th>label</th>\n",
              "    </tr>\n",
              "  </thead>\n",
              "  <tbody>\n",
              "    <tr>\n",
              "      <th>0</th>\n",
              "      <td>Unfortunately, I did receive credible reports of calls that were not properly investigated.</td>\n",
              "      <td>1</td>\n",
              "    </tr>\n",
              "    <tr>\n",
              "      <th>1</th>\n",
              "      <td>534.27 48.21 500.00 500.00 .00 299.19 600.00 .00</td>\n",
              "      <td>0</td>\n",
              "    </tr>\n",
              "    <tr>\n",
              "      <th>2</th>\n",
              "      <td>the rdi rm citizens, or of eag oati citizen, or oe Any in owning, C. gu t;</td>\n",
              "      <td>0</td>\n",
              "    </tr>\n",
              "  </tbody>\n",
              "</table>\n",
              "</div>\n",
              "      <button class=\"colab-df-convert\" onclick=\"convertToInteractive('df-62a2b14f-dccc-4e93-ab21-13c8526cda7a')\"\n",
              "              title=\"Convert this dataframe to an interactive table.\"\n",
              "              style=\"display:none;\">\n",
              "        \n",
              "  <svg xmlns=\"http://www.w3.org/2000/svg\" height=\"24px\"viewBox=\"0 0 24 24\"\n",
              "       width=\"24px\">\n",
              "    <path d=\"M0 0h24v24H0V0z\" fill=\"none\"/>\n",
              "    <path d=\"M18.56 5.44l.94 2.06.94-2.06 2.06-.94-2.06-.94-.94-2.06-.94 2.06-2.06.94zm-11 1L8.5 8.5l.94-2.06 2.06-.94-2.06-.94L8.5 2.5l-.94 2.06-2.06.94zm10 10l.94 2.06.94-2.06 2.06-.94-2.06-.94-.94-2.06-.94 2.06-2.06.94z\"/><path d=\"M17.41 7.96l-1.37-1.37c-.4-.4-.92-.59-1.43-.59-.52 0-1.04.2-1.43.59L10.3 9.45l-7.72 7.72c-.78.78-.78 2.05 0 2.83L4 21.41c.39.39.9.59 1.41.59.51 0 1.02-.2 1.41-.59l7.78-7.78 2.81-2.81c.8-.78.8-2.07 0-2.86zM5.41 20L4 18.59l7.72-7.72 1.47 1.35L5.41 20z\"/>\n",
              "  </svg>\n",
              "      </button>\n",
              "      \n",
              "  <style>\n",
              "    .colab-df-container {\n",
              "      display:flex;\n",
              "      flex-wrap:wrap;\n",
              "      gap: 12px;\n",
              "    }\n",
              "\n",
              "    .colab-df-convert {\n",
              "      background-color: #E8F0FE;\n",
              "      border: none;\n",
              "      border-radius: 50%;\n",
              "      cursor: pointer;\n",
              "      display: none;\n",
              "      fill: #1967D2;\n",
              "      height: 32px;\n",
              "      padding: 0 0 0 0;\n",
              "      width: 32px;\n",
              "    }\n",
              "\n",
              "    .colab-df-convert:hover {\n",
              "      background-color: #E2EBFA;\n",
              "      box-shadow: 0px 1px 2px rgba(60, 64, 67, 0.3), 0px 1px 3px 1px rgba(60, 64, 67, 0.15);\n",
              "      fill: #174EA6;\n",
              "    }\n",
              "\n",
              "    [theme=dark] .colab-df-convert {\n",
              "      background-color: #3B4455;\n",
              "      fill: #D2E3FC;\n",
              "    }\n",
              "\n",
              "    [theme=dark] .colab-df-convert:hover {\n",
              "      background-color: #434B5C;\n",
              "      box-shadow: 0px 1px 3px 1px rgba(0, 0, 0, 0.15);\n",
              "      filter: drop-shadow(0px 1px 2px rgba(0, 0, 0, 0.3));\n",
              "      fill: #FFFFFF;\n",
              "    }\n",
              "  </style>\n",
              "\n",
              "      <script>\n",
              "        const buttonEl =\n",
              "          document.querySelector('#df-62a2b14f-dccc-4e93-ab21-13c8526cda7a button.colab-df-convert');\n",
              "        buttonEl.style.display =\n",
              "          google.colab.kernel.accessAllowed ? 'block' : 'none';\n",
              "\n",
              "        async function convertToInteractive(key) {\n",
              "          const element = document.querySelector('#df-62a2b14f-dccc-4e93-ab21-13c8526cda7a');\n",
              "          const dataTable =\n",
              "            await google.colab.kernel.invokeFunction('convertToInteractive',\n",
              "                                                     [key], {});\n",
              "          if (!dataTable) return;\n",
              "\n",
              "          const docLinkHtml = 'Like what you see? Visit the ' +\n",
              "            '<a target=\"_blank\" href=https://colab.research.google.com/notebooks/data_table.ipynb>data table notebook</a>'\n",
              "            + ' to learn more about interactive tables.';\n",
              "          element.innerHTML = '';\n",
              "          dataTable['output_type'] = 'display_data';\n",
              "          await google.colab.output.renderOutput(dataTable, element);\n",
              "          const docLink = document.createElement('div');\n",
              "          docLink.innerHTML = docLinkHtml;\n",
              "          element.appendChild(docLink);\n",
              "        }\n",
              "      </script>\n",
              "    </div>\n",
              "  </div>\n",
              "  "
            ]
          },
          "metadata": {},
          "execution_count": 90
        }
      ]
    },
    {
      "cell_type": "code",
      "source": [
        "#Clean text and add features\n",
        "data['text'] = data['text'].apply(lambda x: x.lower())"
      ],
      "metadata": {
        "id": "T94nhTgfrGgz"
      },
      "execution_count": 91,
      "outputs": []
    },
    {
      "cell_type": "code",
      "source": [
        "#New feature: count of meta characters like punctuation marks. \n",
        "#Idea behind this: the more meta characters, the more likely for it to be label=0 in longer strings\n",
        "sns.set(rc = {'figure.figsize':(15,8)})\n",
        "\n",
        "data['total_metacharacters'] = data['text'].apply(lambda x: len( re.findall(\"[^\\w\\s]\", x)))\n",
        "\n",
        "sns.histplot(data=data, x='total_metacharacters', hue = 'label', kde=True).set(title='Distribution of Meta Characters for Each Label');\n"
      ],
      "metadata": {
        "colab": {
          "base_uri": "https://localhost:8080/",
          "height": 518
        },
        "id": "g0o1Wiqlve4Y",
        "outputId": "90aa67a3-6ff1-47d8-88c4-4dff7975e3c7"
      },
      "execution_count": 92,
      "outputs": [
        {
          "output_type": "display_data",
          "data": {
            "text/plain": [
              "<Figure size 1080x576 with 1 Axes>"
            ],
            "image/png": "[encoded data removed]"
          },
          "metadata": {}
        }
      ]
    },
    {
      "cell_type": "code",
      "source": [
        "#New feature: Total number of spaces\n",
        "#Idea behind this: from observing the training data, junk text appears to include more spaces\n",
        "\n",
        "data['total_spaces'] = data['text'].apply(lambda x: len( re.findall(\"[\\s]\", x)))\n",
        "\n",
        "sns.histplot(data=data, x='total_spaces', hue = 'label', kde=True).set(title='Distribution of Spaces for Each Label');\n"
      ],
      "metadata": {
        "colab": {
          "base_uri": "https://localhost:8080/",
          "height": 518
        },
        "id": "ItuKnhMfxegf",
        "outputId": "83b56bd9-9a91-49f2-ea95-ec8f1c226a1c"
      },
      "execution_count": 93,
      "outputs": [
        {
          "output_type": "display_data",
          "data": {
            "text/plain": [
              "<Figure size 1080x576 with 1 Axes>"
            ],
            "image/png": "[encoded data removed]"
          },
          "metadata": {}
        }
      ]
    },
    {
      "cell_type": "code",
      "source": [
        "#After preprocessing\n",
        "data.head(3)"
      ],
      "metadata": {
        "colab": {
          "base_uri": "https://localhost:8080/",
          "height": 143
        },
        "id": "wcl4JewEru4J",
        "outputId": "b815cc86-2f0b-4636-8810-8288a2773065"
      },
      "execution_count": 94,
      "outputs": [
        {
          "output_type": "execute_result",
          "data": {
            "text/plain": [
              "                                                                                          text  \\\n",
              "0  unfortunately, i did receive credible reports of calls that were not properly investigated.   \n",
              "1                                             534.27 48.21 500.00 500.00 .00 299.19 600.00 .00   \n",
              "2                   the rdi rm citizens, or of eag oati citizen, or oe any in owning, c. gu t;   \n",
              "\n",
              "   label  total_metacharacters  total_spaces  \n",
              "0      1                     2            12  \n",
              "1      0                     8             7  \n",
              "2      0                     5            16  "
            ],
            "text/html": [
              "\n",
              "  <div id=\"df-23be5531-de00-460b-8ff1-7e577a689c78\">\n",
              "    <div class=\"colab-df-container\">\n",
              "      <div>\n",
              "<style scoped>\n",
              "    .dataframe tbody tr th:only-of-type {\n",
              "        vertical-align: middle;\n",
              "    }\n",
              "\n",
              "    .dataframe tbody tr th {\n",
              "        vertical-align: top;\n",
              "    }\n",
              "\n",
              "    .dataframe thead th {\n",
              "        text-align: right;\n",
              "    }\n",
              "</style>\n",
              "<table border=\"1\" class=\"dataframe\">\n",
              "  <thead>\n",
              "    <tr style=\"text-align: right;\">\n",
              "      <th></th>\n",
              "      <th>text</th>\n",
              "      <th>label</th>\n",
              "      <th>total_metacharacters</th>\n",
              "      <th>total_spaces</th>\n",
              "    </tr>\n",
              "  </thead>\n",
              "  <tbody>\n",
              "    <tr>\n",
              "      <th>0</th>\n",
              "      <td>unfortunately, i did receive credible reports of calls that were not properly investigated.</td>\n",
              "      <td>1</td>\n",
              "      <td>2</td>\n",
              "      <td>12</td>\n",
              "    </tr>\n",
              "    <tr>\n",
              "      <th>1</th>\n",
              "      <td>534.27 48.21 500.00 500.00 .00 299.19 600.00 .00</td>\n",
              "      <td>0</td>\n",
              "      <td>8</td>\n",
              "      <td>7</td>\n",
              "    </tr>\n",
              "    <tr>\n",
              "      <th>2</th>\n",
              "      <td>the rdi rm citizens, or of eag oati citizen, or oe any in owning, c. gu t;</td>\n",
              "      <td>0</td>\n",
              "      <td>5</td>\n",
              "      <td>16</td>\n",
              "    </tr>\n",
              "  </tbody>\n",
              "</table>\n",
              "</div>\n",
              "      <button class=\"colab-df-convert\" onclick=\"convertToInteractive('df-23be5531-de00-460b-8ff1-7e577a689c78')\"\n",
              "              title=\"Convert this dataframe to an interactive table.\"\n",
              "              style=\"display:none;\">\n",
              "        \n",
              "  <svg xmlns=\"http://www.w3.org/2000/svg\" height=\"24px\"viewBox=\"0 0 24 24\"\n",
              "       width=\"24px\">\n",
              "    <path d=\"M0 0h24v24H0V0z\" fill=\"none\"/>\n",
              "    <path d=\"M18.56 5.44l.94 2.06.94-2.06 2.06-.94-2.06-.94-.94-2.06-.94 2.06-2.06.94zm-11 1L8.5 8.5l.94-2.06 2.06-.94-2.06-.94L8.5 2.5l-.94 2.06-2.06.94zm10 10l.94 2.06.94-2.06 2.06-.94-2.06-.94-.94-2.06-.94 2.06-2.06.94z\"/><path d=\"M17.41 7.96l-1.37-1.37c-.4-.4-.92-.59-1.43-.59-.52 0-1.04.2-1.43.59L10.3 9.45l-7.72 7.72c-.78.78-.78 2.05 0 2.83L4 21.41c.39.39.9.59 1.41.59.51 0 1.02-.2 1.41-.59l7.78-7.78 2.81-2.81c.8-.78.8-2.07 0-2.86zM5.41 20L4 18.59l7.72-7.72 1.47 1.35L5.41 20z\"/>\n",
              "  </svg>\n",
              "      </button>\n",
              "      \n",
              "  <style>\n",
              "    .colab-df-container {\n",
              "      display:flex;\n",
              "      flex-wrap:wrap;\n",
              "      gap: 12px;\n",
              "    }\n",
              "\n",
              "    .colab-df-convert {\n",
              "      background-color: #E8F0FE;\n",
              "      border: none;\n",
              "      border-radius: 50%;\n",
              "      cursor: pointer;\n",
              "      display: none;\n",
              "      fill: #1967D2;\n",
              "      height: 32px;\n",
              "      padding: 0 0 0 0;\n",
              "      width: 32px;\n",
              "    }\n",
              "\n",
              "    .colab-df-convert:hover {\n",
              "      background-color: #E2EBFA;\n",
              "      box-shadow: 0px 1px 2px rgba(60, 64, 67, 0.3), 0px 1px 3px 1px rgba(60, 64, 67, 0.15);\n",
              "      fill: #174EA6;\n",
              "    }\n",
              "\n",
              "    [theme=dark] .colab-df-convert {\n",
              "      background-color: #3B4455;\n",
              "      fill: #D2E3FC;\n",
              "    }\n",
              "\n",
              "    [theme=dark] .colab-df-convert:hover {\n",
              "      background-color: #434B5C;\n",
              "      box-shadow: 0px 1px 3px 1px rgba(0, 0, 0, 0.15);\n",
              "      filter: drop-shadow(0px 1px 2px rgba(0, 0, 0, 0.3));\n",
              "      fill: #FFFFFF;\n",
              "    }\n",
              "  </style>\n",
              "\n",
              "      <script>\n",
              "        const buttonEl =\n",
              "          document.querySelector('#df-23be5531-de00-460b-8ff1-7e577a689c78 button.colab-df-convert');\n",
              "        buttonEl.style.display =\n",
              "          google.colab.kernel.accessAllowed ? 'block' : 'none';\n",
              "\n",
              "        async function convertToInteractive(key) {\n",
              "          const element = document.querySelector('#df-23be5531-de00-460b-8ff1-7e577a689c78');\n",
              "          const dataTable =\n",
              "            await google.colab.kernel.invokeFunction('convertToInteractive',\n",
              "                                                     [key], {});\n",
              "          if (!dataTable) return;\n",
              "\n",
              "          const docLinkHtml = 'Like what you see? Visit the ' +\n",
              "            '<a target=\"_blank\" href=https://colab.research.google.com/notebooks/data_table.ipynb>data table notebook</a>'\n",
              "            + ' to learn more about interactive tables.';\n",
              "          element.innerHTML = '';\n",
              "          dataTable['output_type'] = 'display_data';\n",
              "          await google.colab.output.renderOutput(dataTable, element);\n",
              "          const docLink = document.createElement('div');\n",
              "          docLink.innerHTML = docLinkHtml;\n",
              "          element.appendChild(docLink);\n",
              "        }\n",
              "      </script>\n",
              "    </div>\n",
              "  </div>\n",
              "  "
            ]
          },
          "metadata": {},
          "execution_count": 94
        }
      ]
    },
    {
      "cell_type": "code",
      "execution_count": 95,
      "metadata": {
        "id": "hOaZiTiIryN2",
        "colab": {
          "base_uri": "https://localhost:8080/"
        },
        "outputId": "2dd47f3d-5ea2-4e15-c049-2f258aa0c391"
      },
      "outputs": [
        {
          "output_type": "execute_result",
          "data": {
            "text/plain": [
              "((4867, 3), (2398, 3), (4867,), (2398,))"
            ]
          },
          "metadata": {},
          "execution_count": 95
        }
      ],
      "source": [
        "#Train test split\n",
        "X_train, X_test, y_train, y_test = train_test_split(data[['text', 'total_metacharacters', 'total_spaces']], \n",
        "                                                    data['label'], test_size=0.33, random_state=42)\n",
        "\n",
        "#Shapes of each split for validation\n",
        "(X_train.shape, X_test.shape, y_train.shape, y_test.shape)"
      ]
    },
    {
      "cell_type": "code",
      "source": [
        "#Tokenizing words using Bag of Words and TFIDF\n",
        "#Count Vectorizer\n",
        "count_vect = CountVectorizer()\n",
        "X_train_counts = count_vect.fit_transform(X_train.text)\n",
        "\n",
        "#TFIDF\n",
        "tfidf_transformer = TfidfTransformer()\n",
        "X_train_tfidf = tfidf_transformer.fit_transform(X_train_counts)\n"
      ],
      "metadata": {
        "id": "H30ox2fYF7C-"
      },
      "execution_count": 96,
      "outputs": []
    },
    {
      "cell_type": "code",
      "source": [
        "#Balance classes using SMOTE\n",
        "\n",
        "#For Training Data: \n",
        "print(\"Rebalancing training data:\")\n",
        "# summarize class distribution\n",
        "print(\"Classes before SMOTE: \")\n",
        "counter = Counter(y_train)\n",
        "print(counter)\n",
        "# transform the dataset\n",
        "oversample_train = SMOTE(random_state=0)\n",
        "X_train2, y_train2 = oversample_train.fit_resample(X_train_tfidf, y_train)\n",
        "# summarize the new class distribution\n",
        "print(\"Classes after SMOTE: \")\n",
        "counter = Counter(y_train2)\n",
        "print(counter)\n"
      ],
      "metadata": {
        "colab": {
          "base_uri": "https://localhost:8080/"
        },
        "id": "zSZseCLhbZrS",
        "outputId": "737e4b46-4ab4-47c5-c3f1-3deca1f284a8"
      },
      "execution_count": 97,
      "outputs": [
        {
          "output_type": "stream",
          "name": "stdout",
          "text": [
            "Rebalancing training data:\n",
            "Classes before SMOTE: \n",
            "Counter({0: 2811, 1: 2056})\n",
            "Classes after SMOTE: \n",
            "Counter({0: 2811, 1: 2811})\n"
          ]
        }
      ]
    },
    {
      "cell_type": "markdown",
      "metadata": {
        "id": "DR-SDOzimse3"
      },
      "source": [
        "## Machine Learning\n",
        "\n",
        "Build a model that can predict the label.\n",
        "- **The model's performance will be evaluated on the basis of F1 Score.**"
      ]
    },
    {
      "cell_type": "markdown",
      "source": [
        "### Baseline Model: Naive Bayes"
      ],
      "metadata": {
        "id": "zKastRaJGaxH"
      }
    },
    {
      "cell_type": "markdown",
      "source": [
        "Here we consider Naive Bayes as our baseline model since it is a fast and simple algorithm that does not require too much training data. We consider the Bernoulli version since we are working with binary labels."
      ],
      "metadata": {
        "id": "wn-xzKSXLb-O"
      }
    },
    {
      "cell_type": "code",
      "execution_count": 98,
      "metadata": {
        "id": "7VjhrFrutwWc",
        "colab": {
          "base_uri": "https://localhost:8080/"
        },
        "outputId": "4290e6ab-f63c-4109-8faa-4be8eeb4d9e6"
      },
      "outputs": [
        {
          "output_type": "stream",
          "name": "stdout",
          "text": [
            "'This is a correct sentence' => 0\n",
            "'123 | %55 ok' => 0\n"
          ]
        }
      ],
      "source": [
        "#Sanity test before implementing Pipeline function\n",
        "\n",
        "#Train model\n",
        "clf = BernoulliNB().fit(X_train_tfidf, y_train)\n",
        "\n",
        "#Create and transform data\n",
        "docs_new = ['This is a correct sentence', '123 | %55 ok']\n",
        "X_new_counts = count_vect.transform(docs_new)\n",
        "X_new_tfidf = tfidf_transformer.transform(X_new_counts)\n",
        "\n",
        "#Predict using classifier\n",
        "predicted = clf.predict(X_new_tfidf)\n",
        "for doc, category in zip(docs_new, predicted):\n",
        "    print('%r => %s' % (doc, category))"
      ]
    },
    {
      "cell_type": "code",
      "execution_count": 99,
      "metadata": {
        "id": "pnw0Nm2ztweC",
        "colab": {
          "base_uri": "https://localhost:8080/"
        },
        "outputId": "fb6bbf0d-7c2d-4bc9-e114-f71215a8d137"
      },
      "outputs": [
        {
          "output_type": "execute_result",
          "data": {
            "text/plain": [
              "Pipeline(steps=[('cleaning',\n",
              "                 ColumnTransformer(transformers=[('cat',\n",
              "                                                  Pipeline(steps=[('countvectorizer',\n",
              "                                                                   CountVectorizer()),\n",
              "                                                                  ('tfidftransformer',\n",
              "                                                                   TfidfTransformer())]),\n",
              "                                                  'text')])),\n",
              "                ('smote', SMOTE(random_state=0)), ['clf1', BernoulliNB()]])"
            ]
          },
          "metadata": {},
          "execution_count": 99
        }
      ],
      "source": [
        "#Pipeline method to streamline feature engineering and training\n",
        "\n",
        "text_clf1 = imbpipeline( steps=[\n",
        "    ['cleaning',\n",
        "        ColumnTransformer([\n",
        "        ('cat',make_pipeline( \n",
        "            CountVectorizer(),\n",
        "            TfidfTransformer()), 'text')])\n",
        "    ],\n",
        "    ['smote', SMOTE(random_state=0)],\n",
        "    ['clf1', BernoulliNB()],\n",
        "])\n",
        "\n",
        "#Fit and transform data\n",
        "text_clf1.fit(X_train, y_train)"
      ]
    },
    {
      "cell_type": "code",
      "source": [
        "#Use Grid Search to identify the best hyperparameters\n",
        "\n",
        "parameters1 = {\n",
        "    'clf1__alpha': (1e-2, 1e-3),\n",
        "}\n",
        "\n",
        "gs_clf1 = GridSearchCV(text_clf1, parameters1, cv=5, n_jobs=-1)\n",
        "gs_clf1 = gs_clf1.fit(X_train, y_train)"
      ],
      "metadata": {
        "id": "jFsHUMdblrWu"
      },
      "execution_count": 100,
      "outputs": []
    },
    {
      "cell_type": "code",
      "source": [
        "#Predict on test split and get accuracy\n",
        "predicted1 = gs_clf1.predict(X_test)\n",
        "acc1 = np.mean(predicted1 == y_test)\n",
        "f11 = f1_score(y_test, predicted1, average='macro')\n",
        "precision1 = precision_score(y_test, predicted1, average='macro')\n",
        "\n",
        "print(\"Accuracy: \" + str(acc1))\n",
        "print(\"F1 Score: \" + str(f11))"
      ],
      "metadata": {
        "colab": {
          "base_uri": "https://localhost:8080/"
        },
        "id": "JiE6kl27J6SE",
        "outputId": "4f1629cf-14e1-4c1a-f1b0-723c09e1cc7b"
      },
      "execution_count": 101,
      "outputs": [
        {
          "output_type": "stream",
          "name": "stdout",
          "text": [
            "Accuracy: 0.9057547956630525\n",
            "F1 Score: 0.9014712373854721\n"
          ]
        }
      ]
    },
    {
      "cell_type": "code",
      "source": [
        "#Additional metrics for analysis\n",
        "\n",
        "print(classification_report(y_test, predicted1, target_names = ['Junk', 'Good']))"
      ],
      "metadata": {
        "colab": {
          "base_uri": "https://localhost:8080/"
        },
        "id": "af5NtTmRL12K",
        "outputId": "3c2a3faa-699c-4145-deb3-d2c11939d52f"
      },
      "execution_count": 102,
      "outputs": [
        {
          "output_type": "stream",
          "name": "stdout",
          "text": [
            "              precision    recall  f1-score   support\n",
            "\n",
            "        Junk       0.92      0.92      0.92      1446\n",
            "        Good       0.88      0.88      0.88       952\n",
            "\n",
            "    accuracy                           0.91      2398\n",
            "   macro avg       0.90      0.90      0.90      2398\n",
            "weighted avg       0.91      0.91      0.91      2398\n",
            "\n"
          ]
        }
      ]
    },
    {
      "cell_type": "code",
      "source": [
        "#Visualize performance with ROC Curve\n",
        "\n",
        "fpr, tpr, _ = roc_curve(y_test, predicted1, pos_label=gs_clf1.classes_[1])\n",
        "roc_display = RocCurveDisplay(fpr=fpr, tpr=tpr).plot()"
      ],
      "metadata": {
        "colab": {
          "base_uri": "https://localhost:8080/",
          "height": 502
        },
        "id": "KUWBwRvXaKDb",
        "outputId": "dda96b9e-ffa3-43ca-ee5c-cff5c6964d23"
      },
      "execution_count": 103,
      "outputs": [
        {
          "output_type": "display_data",
          "data": {
            "text/plain": [
              "<Figure size 1080x576 with 1 Axes>"
            ],
            "image/png": "[encoded data removed]"
          },
          "metadata": {}
        }
      ]
    },
    {
      "cell_type": "markdown",
      "source": [
        "### Stochastic Gradient Descent Model"
      ],
      "metadata": {
        "id": "k7DEVnrTL2gV"
      }
    },
    {
      "cell_type": "markdown",
      "source": [
        "Although 90% is not a bad score for this use case, we have the opportunity to test more developed models that scikitlearn documentation considers better performing than Naive Bayes. They consider the SGD model one of the best algorithms for document classification, which is why we test this model below. "
      ],
      "metadata": {
        "id": "Pj2CDtifOyui"
      }
    },
    {
      "cell_type": "code",
      "source": [
        "#Pipeline method to streamline feature engineering and training\n",
        "text_clf2 = imbpipeline( steps=[\n",
        "    ['cleaning2',\n",
        "        ColumnTransformer([\n",
        "        ('cat2',make_pipeline( \n",
        "            CountVectorizer(),\n",
        "            TfidfTransformer()), 'text')])\n",
        "    ],\n",
        "    ['smote', SMOTE(random_state=0)],\n",
        "    ['clf2', SGDClassifier(loss='hinge', penalty='l2',\n",
        "                          alpha=1e-3, random_state=42,\n",
        "                          max_iter=5, tol=None)],\n",
        "])\n",
        "\n",
        "#Fit and transform data\n",
        "text_clf2.fit(X_train, y_train)\n",
        "\n",
        "#Run Grid Search to identify the best hyperparameters\n",
        "parameters2 = {\n",
        "    'clf2__alpha': (1e-2, 1e-3),\n",
        "}\n",
        "\n",
        "gs_clf2 = GridSearchCV(text_clf2, parameters2, cv=5, n_jobs=-1)\n",
        "gs_clf2 = gs_clf2.fit(X_train, y_train)\n",
        "\n",
        "#Predict on test split and get accuracy\n",
        "predicted2 = gs_clf2.predict(X_test)\n",
        "acc2 = np.mean(predicted2 == y_test)\n",
        "f12 = f1_score(y_test, predicted2, average='macro')\n",
        "precision2 = precision_score(y_test, predicted2, average='macro')\n",
        "\n",
        "print(\"Accuracy: \" + str(acc2))\n",
        "print(\"F1 Score: \" + str(f12))"
      ],
      "metadata": {
        "colab": {
          "base_uri": "https://localhost:8080/"
        },
        "id": "zwCiS_JUL14y",
        "outputId": "33336733-0467-483e-9c79-ecbb658dd677"
      },
      "execution_count": 104,
      "outputs": [
        {
          "output_type": "stream",
          "name": "stdout",
          "text": [
            "Accuracy: 0.8603002502085071\n",
            "F1 Score: 0.8573475519939255\n"
          ]
        }
      ]
    },
    {
      "cell_type": "code",
      "source": [
        "#Additional metrics for analysis\n",
        "\n",
        "print(classification_report(y_test, predicted2, target_names = ['Junk', 'Good']))"
      ],
      "metadata": {
        "colab": {
          "base_uri": "https://localhost:8080/"
        },
        "id": "mHekO8QZQXFb",
        "outputId": "9511ea67-fa8b-403e-ac71-2dc773f70b17"
      },
      "execution_count": 105,
      "outputs": [
        {
          "output_type": "stream",
          "name": "stdout",
          "text": [
            "              precision    recall  f1-score   support\n",
            "\n",
            "        Junk       0.93      0.83      0.88      1446\n",
            "        Good       0.78      0.90      0.84       952\n",
            "\n",
            "    accuracy                           0.86      2398\n",
            "   macro avg       0.85      0.87      0.86      2398\n",
            "weighted avg       0.87      0.86      0.86      2398\n",
            "\n"
          ]
        }
      ]
    },
    {
      "cell_type": "code",
      "source": [
        "#Visualize performance with ROC Curve\n",
        "\n",
        "fpr, tpr, _ = roc_curve(y_test, predicted2, pos_label=gs_clf2.classes_[1])\n",
        "roc_display = RocCurveDisplay(fpr=fpr, tpr=tpr).plot()"
      ],
      "metadata": {
        "colab": {
          "base_uri": "https://localhost:8080/",
          "height": 502
        },
        "id": "_oOrpW1QauQA",
        "outputId": "817110c8-11f8-439f-e1ca-be3c0c0b066e"
      },
      "execution_count": 106,
      "outputs": [
        {
          "output_type": "display_data",
          "data": {
            "text/plain": [
              "<Figure size 1080x576 with 1 Axes>"
            ],
            "image/png": "[encoded data removed]"
          },
          "metadata": {}
        }
      ]
    },
    {
      "cell_type": "markdown",
      "source": [
        "## Evaluation"
      ],
      "metadata": {
        "id": "QUA-RVODoaVU"
      }
    },
    {
      "cell_type": "markdown",
      "source": [
        "We find that the Naive Bayes model has a higher F1 score than the SGD model. In this use case **high precision is more important** since we would not want to misclassify good text. The **Naive Bayes model also outperforms SGD for this metric while being faster than the SGD model**, and so we would move forward with the Naive Bayes model. "
      ],
      "metadata": {
        "id": "kppokjlrQplK"
      }
    },
    {
      "cell_type": "code",
      "source": [
        "#Table of F1 Scores\n",
        "\n",
        "metrics = ['Naive Bayes', 'SGD Model']\n",
        "scores = {'F1': [f11,f12], 'Precision': [precision1, precision2], 'Accuracy': [acc1, acc2], 'Metric': metrics}\n",
        "\n",
        "pd.DataFrame.from_dict(scores).set_index('Metric')"
      ],
      "metadata": {
        "colab": {
          "base_uri": "https://localhost:8080/",
          "height": 143
        },
        "id": "xWRYgtd6o1o_",
        "outputId": "2897685f-b224-48b5-eb7d-8cf24cf4044e"
      },
      "execution_count": 107,
      "outputs": [
        {
          "output_type": "execute_result",
          "data": {
            "text/plain": [
              "                   F1  Precision  Accuracy\n",
              "Metric                                    \n",
              "Naive Bayes  0.901471   0.901916  0.905755\n",
              "SGD Model    0.857348   0.854248  0.860300"
            ],
            "text/html": [
              "\n",
              "  <div id=\"df-968ae457-5217-4d25-bf5a-60263a70a997\">\n",
              "    <div class=\"colab-df-container\">\n",
              "      <div>\n",
              "<style scoped>\n",
              "    .dataframe tbody tr th:only-of-type {\n",
              "        vertical-align: middle;\n",
              "    }\n",
              "\n",
              "    .dataframe tbody tr th {\n",
              "        vertical-align: top;\n",
              "    }\n",
              "\n",
              "    .dataframe thead th {\n",
              "        text-align: right;\n",
              "    }\n",
              "</style>\n",
              "<table border=\"1\" class=\"dataframe\">\n",
              "  <thead>\n",
              "    <tr style=\"text-align: right;\">\n",
              "      <th></th>\n",
              "      <th>F1</th>\n",
              "      <th>Precision</th>\n",
              "      <th>Accuracy</th>\n",
              "    </tr>\n",
              "    <tr>\n",
              "      <th>Metric</th>\n",
              "      <th></th>\n",
              "      <th></th>\n",
              "      <th></th>\n",
              "    </tr>\n",
              "  </thead>\n",
              "  <tbody>\n",
              "    <tr>\n",
              "      <th>Naive Bayes</th>\n",
              "      <td>0.901471</td>\n",
              "      <td>0.901916</td>\n",
              "      <td>0.905755</td>\n",
              "    </tr>\n",
              "    <tr>\n",
              "      <th>SGD Model</th>\n",
              "      <td>0.857348</td>\n",
              "      <td>0.854248</td>\n",
              "      <td>0.860300</td>\n",
              "    </tr>\n",
              "  </tbody>\n",
              "</table>\n",
              "</div>\n",
              "      <button class=\"colab-df-convert\" onclick=\"convertToInteractive('df-968ae457-5217-4d25-bf5a-60263a70a997')\"\n",
              "              title=\"Convert this dataframe to an interactive table.\"\n",
              "              style=\"display:none;\">\n",
              "        \n",
              "  <svg xmlns=\"http://www.w3.org/2000/svg\" height=\"24px\"viewBox=\"0 0 24 24\"\n",
              "       width=\"24px\">\n",
              "    <path d=\"M0 0h24v24H0V0z\" fill=\"none\"/>\n",
              "    <path d=\"M18.56 5.44l.94 2.06.94-2.06 2.06-.94-2.06-.94-.94-2.06-.94 2.06-2.06.94zm-11 1L8.5 8.5l.94-2.06 2.06-.94-2.06-.94L8.5 2.5l-.94 2.06-2.06.94zm10 10l.94 2.06.94-2.06 2.06-.94-2.06-.94-.94-2.06-.94 2.06-2.06.94z\"/><path d=\"M17.41 7.96l-1.37-1.37c-.4-.4-.92-.59-1.43-.59-.52 0-1.04.2-1.43.59L10.3 9.45l-7.72 7.72c-.78.78-.78 2.05 0 2.83L4 21.41c.39.39.9.59 1.41.59.51 0 1.02-.2 1.41-.59l7.78-7.78 2.81-2.81c.8-.78.8-2.07 0-2.86zM5.41 20L4 18.59l7.72-7.72 1.47 1.35L5.41 20z\"/>\n",
              "  </svg>\n",
              "      </button>\n",
              "      \n",
              "  <style>\n",
              "    .colab-df-container {\n",
              "      display:flex;\n",
              "      flex-wrap:wrap;\n",
              "      gap: 12px;\n",
              "    }\n",
              "\n",
              "    .colab-df-convert {\n",
              "      background-color: #E8F0FE;\n",
              "      border: none;\n",
              "      border-radius: 50%;\n",
              "      cursor: pointer;\n",
              "      display: none;\n",
              "      fill: #1967D2;\n",
              "      height: 32px;\n",
              "      padding: 0 0 0 0;\n",
              "      width: 32px;\n",
              "    }\n",
              "\n",
              "    .colab-df-convert:hover {\n",
              "      background-color: #E2EBFA;\n",
              "      box-shadow: 0px 1px 2px rgba(60, 64, 67, 0.3), 0px 1px 3px 1px rgba(60, 64, 67, 0.15);\n",
              "      fill: #174EA6;\n",
              "    }\n",
              "\n",
              "    [theme=dark] .colab-df-convert {\n",
              "      background-color: #3B4455;\n",
              "      fill: #D2E3FC;\n",
              "    }\n",
              "\n",
              "    [theme=dark] .colab-df-convert:hover {\n",
              "      background-color: #434B5C;\n",
              "      box-shadow: 0px 1px 3px 1px rgba(0, 0, 0, 0.15);\n",
              "      filter: drop-shadow(0px 1px 2px rgba(0, 0, 0, 0.3));\n",
              "      fill: #FFFFFF;\n",
              "    }\n",
              "  </style>\n",
              "\n",
              "      <script>\n",
              "        const buttonEl =\n",
              "          document.querySelector('#df-968ae457-5217-4d25-bf5a-60263a70a997 button.colab-df-convert');\n",
              "        buttonEl.style.display =\n",
              "          google.colab.kernel.accessAllowed ? 'block' : 'none';\n",
              "\n",
              "        async function convertToInteractive(key) {\n",
              "          const element = document.querySelector('#df-968ae457-5217-4d25-bf5a-60263a70a997');\n",
              "          const dataTable =\n",
              "            await google.colab.kernel.invokeFunction('convertToInteractive',\n",
              "                                                     [key], {});\n",
              "          if (!dataTable) return;\n",
              "\n",
              "          const docLinkHtml = 'Like what you see? Visit the ' +\n",
              "            '<a target=\"_blank\" href=https://colab.research.google.com/notebooks/data_table.ipynb>data table notebook</a>'\n",
              "            + ' to learn more about interactive tables.';\n",
              "          element.innerHTML = '';\n",
              "          dataTable['output_type'] = 'display_data';\n",
              "          await google.colab.output.renderOutput(dataTable, element);\n",
              "          const docLink = document.createElement('div');\n",
              "          docLink.innerHTML = docLinkHtml;\n",
              "          element.appendChild(docLink);\n",
              "        }\n",
              "      </script>\n",
              "    </div>\n",
              "  </div>\n",
              "  "
            ]
          },
          "metadata": {},
          "execution_count": 107
        }
      ]
    },
    {
      "cell_type": "markdown",
      "metadata": {
        "id": "sXCkndGRm6Bz"
      },
      "source": [
        "> #### Task:\n",
        "- **Submit the predictions on the test dataset using your optimized model** <br/>\n",
        "    Submit a CSV file with a header row plus each of the test entries, each on its own line. \n",
        "\n",
        "The file (`submissions.csv`) should have exactly 1 column:\n",
        "\n",
        "Column | Description\n",
        ":---|:---\n",
        "`label`  | Label"
      ]
    },
    {
      "cell_type": "code",
      "execution_count": 110,
      "metadata": {
        "colab": {
          "base_uri": "https://localhost:8080/",
          "height": 206
        },
        "id": "m0UOiaNWnvL5",
        "outputId": "7d12a4d8-d989-477c-ee47-338a15be0895"
      },
      "outputs": [
        {
          "output_type": "execute_result",
          "data": {
            "text/plain": [
              "                                                                                                  text\n",
              "0  The requirement for planning commission hearings is to provide an opportunity for broad public i...\n",
              "1                    2.14 2.14 61.53 42.44 18.04 1.05 23.40 11.43 3.61 8.36 0.00 12.93 12.93 0.00 100%\n",
              "2                                                                                D> x 3S 2 2 2 9 2 2 6\n",
              "3  If retentions are withheld, we require formal notification of completion and acceptance by owner...\n",
              "4                   \"Duplex\" means a structure or use on one (1) lot involving two (2) attached common"
            ],
            "text/html": [
              "\n",
              "  <div id=\"df-2a0dad86-2b56-4d42-91c9-6d3158fadab9\">\n",
              "    <div class=\"colab-df-container\">\n",
              "      <div>\n",
              "<style scoped>\n",
              "    .dataframe tbody tr th:only-of-type {\n",
              "        vertical-align: middle;\n",
              "    }\n",
              "\n",
              "    .dataframe tbody tr th {\n",
              "        vertical-align: top;\n",
              "    }\n",
              "\n",
              "    .dataframe thead th {\n",
              "        text-align: right;\n",
              "    }\n",
              "</style>\n",
              "<table border=\"1\" class=\"dataframe\">\n",
              "  <thead>\n",
              "    <tr style=\"text-align: right;\">\n",
              "      <th></th>\n",
              "      <th>text</th>\n",
              "    </tr>\n",
              "  </thead>\n",
              "  <tbody>\n",
              "    <tr>\n",
              "      <th>0</th>\n",
              "      <td>The requirement for planning commission hearings is to provide an opportunity for broad public i...</td>\n",
              "    </tr>\n",
              "    <tr>\n",
              "      <th>1</th>\n",
              "      <td>2.14 2.14 61.53 42.44 18.04 1.05 23.40 11.43 3.61 8.36 0.00 12.93 12.93 0.00 100%</td>\n",
              "    </tr>\n",
              "    <tr>\n",
              "      <th>2</th>\n",
              "      <td>D&gt; x 3S 2 2 2 9 2 2 6</td>\n",
              "    </tr>\n",
              "    <tr>\n",
              "      <th>3</th>\n",
              "      <td>If retentions are withheld, we require formal notification of completion and acceptance by owner...</td>\n",
              "    </tr>\n",
              "    <tr>\n",
              "      <th>4</th>\n",
              "      <td>\"Duplex\" means a structure or use on one (1) lot involving two (2) attached common</td>\n",
              "    </tr>\n",
              "  </tbody>\n",
              "</table>\n",
              "</div>\n",
              "      <button class=\"colab-df-convert\" onclick=\"convertToInteractive('df-2a0dad86-2b56-4d42-91c9-6d3158fadab9')\"\n",
              "              title=\"Convert this dataframe to an interactive table.\"\n",
              "              style=\"display:none;\">\n",
              "        \n",
              "  <svg xmlns=\"http://www.w3.org/2000/svg\" height=\"24px\"viewBox=\"0 0 24 24\"\n",
              "       width=\"24px\">\n",
              "    <path d=\"M0 0h24v24H0V0z\" fill=\"none\"/>\n",
              "    <path d=\"M18.56 5.44l.94 2.06.94-2.06 2.06-.94-2.06-.94-.94-2.06-.94 2.06-2.06.94zm-11 1L8.5 8.5l.94-2.06 2.06-.94-2.06-.94L8.5 2.5l-.94 2.06-2.06.94zm10 10l.94 2.06.94-2.06 2.06-.94-2.06-.94-.94-2.06-.94 2.06-2.06.94z\"/><path d=\"M17.41 7.96l-1.37-1.37c-.4-.4-.92-.59-1.43-.59-.52 0-1.04.2-1.43.59L10.3 9.45l-7.72 7.72c-.78.78-.78 2.05 0 2.83L4 21.41c.39.39.9.59 1.41.59.51 0 1.02-.2 1.41-.59l7.78-7.78 2.81-2.81c.8-.78.8-2.07 0-2.86zM5.41 20L4 18.59l7.72-7.72 1.47 1.35L5.41 20z\"/>\n",
              "  </svg>\n",
              "      </button>\n",
              "      \n",
              "  <style>\n",
              "    .colab-df-container {\n",
              "      display:flex;\n",
              "      flex-wrap:wrap;\n",
              "      gap: 12px;\n",
              "    }\n",
              "\n",
              "    .colab-df-convert {\n",
              "      background-color: #E8F0FE;\n",
              "      border: none;\n",
              "      border-radius: 50%;\n",
              "      cursor: pointer;\n",
              "      display: none;\n",
              "      fill: #1967D2;\n",
              "      height: 32px;\n",
              "      padding: 0 0 0 0;\n",
              "      width: 32px;\n",
              "    }\n",
              "\n",
              "    .colab-df-convert:hover {\n",
              "      background-color: #E2EBFA;\n",
              "      box-shadow: 0px 1px 2px rgba(60, 64, 67, 0.3), 0px 1px 3px 1px rgba(60, 64, 67, 0.15);\n",
              "      fill: #174EA6;\n",
              "    }\n",
              "\n",
              "    [theme=dark] .colab-df-convert {\n",
              "      background-color: #3B4455;\n",
              "      fill: #D2E3FC;\n",
              "    }\n",
              "\n",
              "    [theme=dark] .colab-df-convert:hover {\n",
              "      background-color: #434B5C;\n",
              "      box-shadow: 0px 1px 3px 1px rgba(0, 0, 0, 0.15);\n",
              "      filter: drop-shadow(0px 1px 2px rgba(0, 0, 0, 0.3));\n",
              "      fill: #FFFFFF;\n",
              "    }\n",
              "  </style>\n",
              "\n",
              "      <script>\n",
              "        const buttonEl =\n",
              "          document.querySelector('#df-2a0dad86-2b56-4d42-91c9-6d3158fadab9 button.colab-df-convert');\n",
              "        buttonEl.style.display =\n",
              "          google.colab.kernel.accessAllowed ? 'block' : 'none';\n",
              "\n",
              "        async function convertToInteractive(key) {\n",
              "          const element = document.querySelector('#df-2a0dad86-2b56-4d42-91c9-6d3158fadab9');\n",
              "          const dataTable =\n",
              "            await google.colab.kernel.invokeFunction('convertToInteractive',\n",
              "                                                     [key], {});\n",
              "          if (!dataTable) return;\n",
              "\n",
              "          const docLinkHtml = 'Like what you see? Visit the ' +\n",
              "            '<a target=\"_blank\" href=https://colab.research.google.com/notebooks/data_table.ipynb>data table notebook</a>'\n",
              "            + ' to learn more about interactive tables.';\n",
              "          element.innerHTML = '';\n",
              "          dataTable['output_type'] = 'display_data';\n",
              "          await google.colab.output.renderOutput(dataTable, element);\n",
              "          const docLink = document.createElement('div');\n",
              "          docLink.innerHTML = docLinkHtml;\n",
              "          element.appendChild(docLink);\n",
              "        }\n",
              "      </script>\n",
              "    </div>\n",
              "  </div>\n",
              "  "
            ]
          },
          "metadata": {},
          "execution_count": 110
        }
      ],
      "source": [
        "test = pd.read_csv('test.csv')\n",
        "test.head()"
      ]
    },
    {
      "cell_type": "code",
      "execution_count": 116,
      "metadata": {
        "id": "oo1BW2qnnzJj"
      },
      "outputs": [],
      "source": [
        "#Evaluate test set\n",
        "test_df = test\n",
        "test_df['total_metacharacters'] = test_df['text'].apply(lambda x: len( re.findall(\"[^\\w\\s]\", x)))\n",
        "test_df['total_spaces'] = test_df['text'].apply(lambda x: len( re.findall(\"[\\s]\", x)))\n",
        "\n",
        "submission_df = pd.DataFrame.from_dict({'label':gs_clf2.predict(test_df)})"
      ]
    },
    {
      "cell_type": "code",
      "execution_count": 118,
      "metadata": {
        "id": "qpMZzaq8-Jak"
      },
      "outputs": [],
      "source": [
        "#Submission\n",
        "submission_df.to_csv('submissions.csv', index=False)"
      ]
    },
    {
      "cell_type": "markdown",
      "source": [
        "## References\n",
        "\n",
        "\n",
        "*   https://towardsdatascience.com/multi-class-text-classification-model-comparison-and-selection-5eb066197568#:~:text=Linear%20Support%20Vector%20Machine%20is,the%20best%20text%20classification%20algorithms. \n",
        "*   https://scikit-learn.org/stable/modules/naive_bayes.html#bernoulli-naive-bayes\n",
        "*   https://scikit-learn.org/stable/tutorial/text_analytics/working_with_text_data.html\n",
        "*   https://arxiv.org/pdf/1106.1813.pdf\n",
        "*   https://towardsdatascience.com/the-right-way-of-using-smote-with-cross-validation-92a8d09d00c7\n",
        "\n"
      ],
      "metadata": {
        "id": "Ga9PUWhdRt6g"
      }
    },
    {
      "cell_type": "markdown",
      "source": [
        "##Thank you!"
      ],
      "metadata": {
        "id": "nxpYAdeRdAdo"
      }
    }
  ],
  "metadata": {
    "colab": {
      "collapsed_sections": [],
      "name": "Elda_Pere_DS_Challenge.ipynb",
      "provenance": []
    },
    "kernelspec": {
      "display_name": "Python 3 (ipykernel)",
      "language": "python",
      "name": "python3"
    },
    "language_info": {
      "codemirror_mode": {
        "name": "ipython",
        "version": 3
      },
      "file_extension": ".py",
      "mimetype": "text/x-python",
      "name": "python",
      "nbconvert_exporter": "python",
      "pygments_lexer": "ipython3",
      "version": "3.8.2"
    }
  },
  "nbformat": 4,
  "nbformat_minor": 0
}